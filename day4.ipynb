{
  "nbformat": 4,
  "nbformat_minor": 0,
  "metadata": {
    "colab": {
      "name": "day4.ipynb",
      "provenance": [],
      "mount_file_id": "1ptK3nSmkGwbevR89mu6_8Y1a68H8nY0l",
      "authorship_tag": "ABX9TyOQDpejfliOX4Vphlw0yzys",
      "include_colab_link": true
    },
    "kernelspec": {
      "name": "python3",
      "display_name": "Python 3"
    }
  },
  "cells": [
    {
      "cell_type": "markdown",
      "metadata": {
        "id": "view-in-github",
        "colab_type": "text"
      },
      "source": [
        "<a href=\"https://colab.research.google.com/github/slon101/dw_matrix_road_sign/blob/master/day4.ipynb\" target=\"_parent\"><img src=\"https://colab.research.google.com/assets/colab-badge.svg\" alt=\"Open In Colab\"/></a>"
      ]
    },
    {
      "cell_type": "code",
      "metadata": {
        "id": "8Vw8KXNqh9JA",
        "colab_type": "code",
        "outputId": "52c2054c-fe0f-4ff3-dbd7-9b3d0156ef1d",
        "colab": {
          "base_uri": "https://localhost:8080/",
          "height": 50
        }
      },
      "source": [
        "import pandas as pd\n",
        "import numpy as np\n",
        "import os\n",
        "import datetime\n",
        "from tqdm import tqdm\n",
        "\n",
        "import tensorflow as tf\n",
        "from tensorflow.keras.models import Sequential\n",
        "from tensorflow.keras.layers import Conv2D, MaxPool2D, Dense, Flatten, Dropout\n",
        "from tensorflow.keras.utils import to_categorical\n",
        "\n",
        "%load_ext tensorboard\n",
        "\n",
        "import matplotlib.pyplot as plt\n",
        "from skimage import color, exposure\n",
        "\n",
        "from sklearn.metrics import accuracy_score"
      ],
      "execution_count": 0,
      "outputs": [
        {
          "output_type": "stream",
          "text": [
            "The tensorboard extension is already loaded. To reload it, use:\n",
            "  %reload_ext tensorboard\n"
          ],
          "name": "stdout"
        }
      ]
    },
    {
      "cell_type": "code",
      "metadata": {
        "id": "kKi1_zsViD6g",
        "colab_type": "code",
        "outputId": "35a054eb-1069-4d98-c970-8063ba390d9f",
        "colab": {
          "base_uri": "https://localhost:8080/",
          "height": 34
        }
      },
      "source": [
        "cd '/content/drive/My Drive/Colab Notebooks/matrix/matrix_three/dw_matrix_road_sign'"
      ],
      "execution_count": 0,
      "outputs": [
        {
          "output_type": "stream",
          "text": [
            "/content/drive/My Drive/Colab Notebooks/matrix/matrix_three/dw_matrix_road_sign\n"
          ],
          "name": "stdout"
        }
      ]
    },
    {
      "cell_type": "code",
      "metadata": {
        "id": "k1j94XPFiIv8",
        "colab_type": "code",
        "colab": {}
      },
      "source": [
        "train = pd.read_pickle('data/train.p')\n",
        "test = pd.read_pickle('data/test.p')\n",
        "\n",
        "X_train, y_train = train['features'], train['labels']\n",
        "X_test, y_test = test['features'], test['labels']"
      ],
      "execution_count": 0,
      "outputs": []
    },
    {
      "cell_type": "code",
      "metadata": {
        "id": "elKMsuJqiQ4Y",
        "colab_type": "code",
        "outputId": "a559123e-2609-46fb-c957-d840678212ce",
        "colab": {
          "base_uri": "https://localhost:8080/",
          "height": 34
        }
      },
      "source": [
        "y_train"
      ],
      "execution_count": 0,
      "outputs": [
        {
          "output_type": "execute_result",
          "data": {
            "text/plain": [
              "array([41, 41, 41, ..., 25, 25, 25], dtype=uint8)"
            ]
          },
          "metadata": {
            "tags": []
          },
          "execution_count": 5
        }
      ]
    },
    {
      "cell_type": "code",
      "metadata": {
        "id": "tiUiW87xiUFY",
        "colab_type": "code",
        "outputId": "19775db5-1e26-4e6b-a30e-f2cbfdff8f72",
        "colab": {
          "base_uri": "https://localhost:8080/",
          "height": 34
        }
      },
      "source": [
        "len(np.unique(y_train))"
      ],
      "execution_count": 0,
      "outputs": [
        {
          "output_type": "execute_result",
          "data": {
            "text/plain": [
              "43"
            ]
          },
          "metadata": {
            "tags": []
          },
          "execution_count": 6
        }
      ]
    },
    {
      "cell_type": "code",
      "metadata": {
        "id": "GvLXJqBciWWq",
        "colab_type": "code",
        "outputId": "a1990d72-e465-45cb-9628-82b37a39b03b",
        "colab": {
          "base_uri": "https://localhost:8080/",
          "height": 67
        }
      },
      "source": [
        "\n",
        "to_categorical(y_train)[0]"
      ],
      "execution_count": 0,
      "outputs": [
        {
          "output_type": "execute_result",
          "data": {
            "text/plain": [
              "array([0., 0., 0., 0., 0., 0., 0., 0., 0., 0., 0., 0., 0., 0., 0., 0., 0.,\n",
              "       0., 0., 0., 0., 0., 0., 0., 0., 0., 0., 0., 0., 0., 0., 0., 0., 0.,\n",
              "       0., 0., 0., 0., 0., 0., 0., 1., 0.], dtype=float32)"
            ]
          },
          "metadata": {
            "tags": []
          },
          "execution_count": 7
        }
      ]
    },
    {
      "cell_type": "code",
      "metadata": {
        "id": "clxofXjmiYTK",
        "colab_type": "code",
        "outputId": "e371bf42-f916-4e67-a88d-62983e140226",
        "colab": {
          "base_uri": "https://localhost:8080/",
          "height": 67
        }
      },
      "source": [
        "np.unique(y_train)"
      ],
      "execution_count": 0,
      "outputs": [
        {
          "output_type": "execute_result",
          "data": {
            "text/plain": [
              "array([ 0,  1,  2,  3,  4,  5,  6,  7,  8,  9, 10, 11, 12, 13, 14, 15, 16,\n",
              "       17, 18, 19, 20, 21, 22, 23, 24, 25, 26, 27, 28, 29, 30, 31, 32, 33,\n",
              "       34, 35, 36, 37, 38, 39, 40, 41, 42], dtype=uint8)"
            ]
          },
          "metadata": {
            "tags": []
          },
          "execution_count": 8
        }
      ]
    },
    {
      "cell_type": "code",
      "metadata": {
        "id": "OU4eBMLfiaJF",
        "colab_type": "code",
        "outputId": "fb8b4640-0f3b-4946-be7b-832579fef580",
        "colab": {
          "base_uri": "https://localhost:8080/",
          "height": 67
        }
      },
      "source": [
        "to_categorical(y_train)[-1]"
      ],
      "execution_count": 0,
      "outputs": [
        {
          "output_type": "execute_result",
          "data": {
            "text/plain": [
              "array([0., 0., 0., 0., 0., 0., 0., 0., 0., 0., 0., 0., 0., 0., 0., 0., 0.,\n",
              "       0., 0., 0., 0., 0., 0., 0., 0., 1., 0., 0., 0., 0., 0., 0., 0., 0.,\n",
              "       0., 0., 0., 0., 0., 0., 0., 0., 0.], dtype=float32)"
            ]
          },
          "metadata": {
            "tags": []
          },
          "execution_count": 9
        }
      ]
    },
    {
      "cell_type": "code",
      "metadata": {
        "id": "oEB6eZajicdz",
        "colab_type": "code",
        "colab": {}
      },
      "source": [
        "if y_train.ndim == 1: y_train = to_categorical(y_train)\n",
        "if y_test.ndim == 1: y_test = to_categorical(y_test)"
      ],
      "execution_count": 0,
      "outputs": []
    },
    {
      "cell_type": "code",
      "metadata": {
        "id": "TTjsp0RxigQu",
        "colab_type": "code",
        "outputId": "0e32ee05-fc37-4dce-b0c3-d2e9cd999bb1",
        "colab": {
          "base_uri": "https://localhost:8080/",
          "height": 34
        }
      },
      "source": [
        "y_train.shape"
      ],
      "execution_count": 0,
      "outputs": [
        {
          "output_type": "execute_result",
          "data": {
            "text/plain": [
              "(34799, 43)"
            ]
          },
          "metadata": {
            "tags": []
          },
          "execution_count": 11
        }
      ]
    },
    {
      "cell_type": "code",
      "metadata": {
        "id": "P_9GiGP7iiG6",
        "colab_type": "code",
        "outputId": "8d84dbad-3f5f-439c-a003-1a30c35c9cb9",
        "colab": {
          "base_uri": "https://localhost:8080/",
          "height": 34
        }
      },
      "source": [
        "\n",
        "X_train.shape"
      ],
      "execution_count": 0,
      "outputs": [
        {
          "output_type": "execute_result",
          "data": {
            "text/plain": [
              "(34799, 32, 32, 3)"
            ]
          },
          "metadata": {
            "tags": []
          },
          "execution_count": 12
        }
      ]
    },
    {
      "cell_type": "code",
      "metadata": {
        "id": "oB3lUR0BikXJ",
        "colab_type": "code",
        "colab": {}
      },
      "source": [
        "\n",
        "input_shape = X_train.shape[1:]\n",
        "num_classes = y_train.shape[1]"
      ],
      "execution_count": 0,
      "outputs": []
    },
    {
      "cell_type": "code",
      "metadata": {
        "id": "6vxk43DfinQp",
        "colab_type": "code",
        "colab": {}
      },
      "source": [
        " model = Sequential([\n",
        "  Conv2D(filters=64, kernel_size=(3, 3), activation='relu', input_shape=input_shape), \n",
        "  \n",
        "  Flatten(),\n",
        "\n",
        "  Dense(num_classes, activation='softmax')\n",
        "])"
      ],
      "execution_count": 0,
      "outputs": []
    },
    {
      "cell_type": "code",
      "metadata": {
        "id": "LO66Ty68ipdm",
        "colab_type": "code",
        "outputId": "55e2bbaf-048f-419a-dbf8-7f587ad9d40e",
        "colab": {
          "base_uri": "https://localhost:8080/",
          "height": 252
        }
      },
      "source": [
        "model.summary()"
      ],
      "execution_count": 0,
      "outputs": [
        {
          "output_type": "stream",
          "text": [
            "Model: \"sequential\"\n",
            "_________________________________________________________________\n",
            "Layer (type)                 Output Shape              Param #   \n",
            "=================================================================\n",
            "conv2d (Conv2D)              (None, 30, 30, 64)        1792      \n",
            "_________________________________________________________________\n",
            "flatten (Flatten)            (None, 57600)             0         \n",
            "_________________________________________________________________\n",
            "dense (Dense)                (None, 43)                2476843   \n",
            "=================================================================\n",
            "Total params: 2,478,635\n",
            "Trainable params: 2,478,635\n",
            "Non-trainable params: 0\n",
            "_________________________________________________________________\n"
          ],
          "name": "stdout"
        }
      ]
    },
    {
      "cell_type": "code",
      "metadata": {
        "id": "CYuXaP4direr",
        "colab_type": "code",
        "colab": {}
      },
      "source": [
        "model.compile(loss='categorical_crossentropy', optimizer='Adam', metrics=['accuracy'])"
      ],
      "execution_count": 0,
      "outputs": []
    },
    {
      "cell_type": "code",
      "metadata": {
        "id": "FSzolbopi0WX",
        "colab_type": "code",
        "outputId": "13202c5a-a665-4655-c321-3115f4396378",
        "colab": {
          "base_uri": "https://localhost:8080/",
          "height": 50
        }
      },
      "source": [
        "\n",
        "model.fit(X_train, y_train)"
      ],
      "execution_count": 0,
      "outputs": [
        {
          "output_type": "stream",
          "text": [
            "1088/1088 [==============================] - 47s 43ms/step - loss: 3.4824 - accuracy: 0.8011\n"
          ],
          "name": "stdout"
        },
        {
          "output_type": "execute_result",
          "data": {
            "text/plain": [
              "<tensorflow.python.keras.callbacks.History at 0x7f32f0370160>"
            ]
          },
          "metadata": {
            "tags": []
          },
          "execution_count": 18
        }
      ]
    },
    {
      "cell_type": "code",
      "metadata": {
        "id": "jbAd7zOAi2Zi",
        "colab_type": "code",
        "colab": {}
      },
      "source": [
        "def get_cnn_v1(input_shape, num_classes):\n",
        "  return Sequential([\n",
        "  Conv2D(filters=64, kernel_size=(3, 3), activation='relu', input_shape=input_shape), \n",
        "  \n",
        "  Flatten(),\n",
        "\n",
        "  Dense(num_classes, activation='softmax')\n",
        "  ])\n",
        "\n",
        "def train_model(model, X_train, y_train, params_fit={}):\n",
        "  model.compile(loss='categorical_crossentropy', optimizer='Adam', metrics=['accuracy'])\n",
        "  \n",
        "  logdir = os.path.join(\"logs\", datetime.datetime.now().strftime(\"%Y%m%d-%H%M%S\"))\n",
        "  tensorboard_callback = tf.keras.callbacks.TensorBoard(logdir, histogram_freq=1)\n",
        "  \n",
        "  model.fit(\n",
        "      X_train, \n",
        "      y_train,\n",
        "      batch_size=params_fit.get('batch_size', 128),\n",
        "      epochs=params_fit.get('epochs', 5),\n",
        "      verbose=params_fit.get('verbose', 1),\n",
        "      validation_data=params_fit.get('validation_data', (X_train, y_train)),\n",
        "      callbacks= [tensorboard_callback]\n",
        "  )\n",
        "  return model"
      ],
      "execution_count": 0,
      "outputs": []
    },
    {
      "cell_type": "code",
      "metadata": {
        "id": "5urKIyA9rCGn",
        "colab_type": "code",
        "outputId": "8da69bd2-20e4-434e-8c67-b08721d868fd",
        "colab": {
          "base_uri": "https://localhost:8080/",
          "height": 185
        }
      },
      "source": [
        "model = get_cnn_v1(input_shape, num_classes)\n",
        "model_trained = train_model(model, X_train, y_train)"
      ],
      "execution_count": 0,
      "outputs": [
        {
          "output_type": "stream",
          "text": [
            "Epoch 1/5\n",
            "272/272 [==============================] - 47s 172ms/step - loss: 49.1812 - accuracy: 0.7153 - val_loss: 0.2956 - val_accuracy: 0.9308\n",
            "Epoch 2/5\n",
            "272/272 [==============================] - 46s 170ms/step - loss: 0.2220 - accuracy: 0.9503 - val_loss: 0.1087 - val_accuracy: 0.9738\n",
            "Epoch 3/5\n",
            "272/272 [==============================] - 46s 168ms/step - loss: 0.1313 - accuracy: 0.9706 - val_loss: 0.1085 - val_accuracy: 0.9725\n",
            "Epoch 4/5\n",
            "272/272 [==============================] - 46s 168ms/step - loss: 0.0973 - accuracy: 0.9773 - val_loss: 0.0674 - val_accuracy: 0.9843\n",
            "Epoch 5/5\n",
            "272/272 [==============================] - 46s 169ms/step - loss: 0.1432 - accuracy: 0.9687 - val_loss: 0.2037 - val_accuracy: 0.9552\n"
          ],
          "name": "stdout"
        }
      ]
    },
    {
      "cell_type": "code",
      "metadata": {
        "id": "YlIszCnVrE7Z",
        "colab_type": "code",
        "outputId": "22d5e2a2-c7c3-43bd-d9eb-1a18aa3f547b",
        "colab": {
          "base_uri": "https://localhost:8080/",
          "height": 235
        }
      },
      "source": [
        "y_pred_prob = model_trained.predict(X_test)\n",
        "y_pred_prob"
      ],
      "execution_count": 0,
      "outputs": [
        {
          "output_type": "execute_result",
          "data": {
            "text/plain": [
              "array([[7.2371904e-14, 3.5467638e-06, 1.6160877e-02, ..., 2.4800283e-05,\n",
              "        4.8990850e-03, 4.9811723e-07],\n",
              "       [2.6932417e-12, 2.1260789e-06, 1.4660694e-01, ..., 2.6928788e-05,\n",
              "        4.1817352e-06, 5.5726403e-08],\n",
              "       [4.4250428e-15, 9.5274714e-07, 3.2819379e-03, ..., 3.9677434e-06,\n",
              "        2.3953489e-03, 1.4883942e-07],\n",
              "       ...,\n",
              "       [6.3111102e-03, 7.6471241e-03, 6.7205355e-03, ..., 3.1898608e-03,\n",
              "        1.2703981e-02, 7.5740730e-03],\n",
              "       [2.1795605e-03, 2.2241553e-02, 1.2052621e-02, ..., 3.3583206e-03,\n",
              "        9.8380093e-03, 8.1358681e-04],\n",
              "       [8.8440761e-04, 1.0265385e-02, 1.8644389e-02, ..., 1.2102271e-03,\n",
              "        9.2352694e-03, 2.4438729e-03]], dtype=float32)"
            ]
          },
          "metadata": {
            "tags": []
          },
          "execution_count": 21
        }
      ]
    },
    {
      "cell_type": "code",
      "metadata": {
        "id": "v5hYYWSluIFO",
        "colab_type": "code",
        "outputId": "fd5a3abd-d5ca-4b94-9a1f-b94f00b5507f",
        "colab": {
          "base_uri": "https://localhost:8080/",
          "height": 202
        }
      },
      "source": [
        "y_pred_prob[400]"
      ],
      "execution_count": 0,
      "outputs": [
        {
          "output_type": "execute_result",
          "data": {
            "text/plain": [
              "array([1.77236359e-07, 9.70919192e-01, 2.95365885e-11, 3.92890229e-13,\n",
              "       2.90806256e-02, 9.01479737e-13, 1.26290561e-17, 3.10916287e-20,\n",
              "       1.24273515e-14, 3.92528431e-13, 3.46823755e-16, 7.39048274e-15,\n",
              "       9.95936045e-17, 4.77783394e-13, 6.09993124e-19, 3.67850294e-19,\n",
              "       5.68160129e-18, 1.24225871e-18, 2.46936087e-12, 2.12857566e-16,\n",
              "       5.73250061e-18, 8.95225847e-20, 8.05214798e-17, 3.65797672e-18,\n",
              "       1.33622285e-15, 8.11569129e-20, 9.93156634e-14, 3.85855327e-27,\n",
              "       4.37282188e-16, 2.23030382e-15, 1.82372439e-25, 1.28209260e-19,\n",
              "       3.95641117e-24, 2.94615188e-23, 1.66236186e-28, 3.50500215e-22,\n",
              "       1.57215343e-19, 2.41026145e-25, 7.93100323e-24, 1.48468245e-23,\n",
              "       1.14474430e-20, 3.94035921e-22, 1.15946281e-35], dtype=float32)"
            ]
          },
          "metadata": {
            "tags": []
          },
          "execution_count": 22
        }
      ]
    },
    {
      "cell_type": "code",
      "metadata": {
        "id": "evl2TxfhuNm5",
        "colab_type": "code",
        "outputId": "ddefd676-42c2-43fc-8479-df1e46e1f4fc",
        "colab": {
          "base_uri": "https://localhost:8080/",
          "height": 34
        }
      },
      "source": [
        "np.sum( [1.77236359e-07, 9.70919192e-01, 2.95365885e-11, 3.92890229e-13,\n",
        "       2.90806256e-02, 9.01479737e-13, 1.26290561e-17, 3.10916287e-20,\n",
        "       1.24273515e-14, 3.92528431e-13, 3.46823755e-16, 7.39048274e-15,\n",
        "       9.95936045e-17, 4.77783394e-13, 6.09993124e-19, 3.67850294e-19,\n",
        "       5.68160129e-18, 1.24225871e-18, 2.46936087e-12, 2.12857566e-16,\n",
        "       5.73250061e-18, 8.95225847e-20, 8.05214798e-17, 3.65797672e-18,\n",
        "       1.33622285e-15, 8.11569129e-20, 9.93156634e-14, 3.85855327e-27,\n",
        "       4.37282188e-16, 2.23030382e-15, 1.82372439e-25, 1.28209260e-19,\n",
        "       3.95641117e-24, 2.94615188e-23, 1.66236186e-28, 3.50500215e-22,\n",
        "       1.57215343e-19, 2.41026145e-25, 7.93100323e-24, 1.48468245e-23,\n",
        "       1.14474430e-20, 3.94035921e-22, 1.15946281e-35] )"
      ],
      "execution_count": 0,
      "outputs": [
        {
          "output_type": "execute_result",
          "data": {
            "text/plain": [
              "0.9999999948706536"
            ]
          },
          "metadata": {
            "tags": []
          },
          "execution_count": 23
        }
      ]
    },
    {
      "cell_type": "code",
      "metadata": {
        "id": "cwgdNnW4uZcO",
        "colab_type": "code",
        "outputId": "8ab058bc-689b-48fa-98c5-702e7ddb32c9",
        "colab": {
          "base_uri": "https://localhost:8080/",
          "height": 282
        }
      },
      "source": [
        "plt.bar(range(43), y_pred_prob[400])"
      ],
      "execution_count": 0,
      "outputs": [
        {
          "output_type": "execute_result",
          "data": {
            "text/plain": [
              "<BarContainer object of 43 artists>"
            ]
          },
          "metadata": {
            "tags": []
          },
          "execution_count": 24
        },
        {
          "output_type": "display_data",
          "data": {
            "image/png": "[encoded data removed]",
            "text/plain": [
              "<Figure size 432x288 with 1 Axes>"
            ]
          },
          "metadata": {
            "tags": []
          }
        }
      ]
    },
    {
      "cell_type": "code",
      "metadata": {
        "id": "oxUv-FI-udG5",
        "colab_type": "code",
        "outputId": "9396b7e1-6e18-4de2-eec6-1c02953a63a7",
        "colab": {
          "base_uri": "https://localhost:8080/",
          "height": 283
        }
      },
      "source": [
        "plt.imshow(X_test[400])"
      ],
      "execution_count": 0,
      "outputs": [
        {
          "output_type": "execute_result",
          "data": {
            "text/plain": [
              "<matplotlib.image.AxesImage at 0x7f32ebbb04a8>"
            ]
          },
          "metadata": {
            "tags": []
          },
          "execution_count": 25
        },
        {
          "output_type": "display_data",
          "data": {
            "image/png": "[encoded data removed]",
            "text/plain": [
              "<Figure size 432x288 with 1 Axes>"
            ]
          },
          "metadata": {
            "tags": []
          }
        }
      ]
    },
    {
      "cell_type": "code",
      "metadata": {
        "id": "b1FXRutgugrR",
        "colab_type": "code",
        "outputId": "48ea3d99-7514-46bf-957a-92f3ab7ef40d",
        "colab": {
          "base_uri": "https://localhost:8080/",
          "height": 739
        }
      },
      "source": [
        "df = pd.read_csv('data/signnames.csv')\n",
        "labels_dict = df.to_dict()['b']\n",
        "labels_dict"
      ],
      "execution_count": 0,
      "outputs": [
        {
          "output_type": "execute_result",
          "data": {
            "text/plain": [
              "{0: 'Speed limit (20km/h)',\n",
              " 1: 'Speed limit (30km/h)',\n",
              " 2: 'Speed limit (50km/h)',\n",
              " 3: 'Speed limit (60km/h)',\n",
              " 4: 'Speed limit (70km/h)',\n",
              " 5: 'Speed limit (80km/h)',\n",
              " 6: 'End of speed limit (80km/h)',\n",
              " 7: 'Speed limit (100km/h)',\n",
              " 8: 'Speed limit (120km/h)',\n",
              " 9: 'No passing',\n",
              " 10: 'No passing for vehicles over 3.5 metric tons',\n",
              " 11: 'Right-of-way at the next intersection',\n",
              " 12: 'Priority road',\n",
              " 13: 'Yield',\n",
              " 14: 'Stop',\n",
              " 15: 'No vehicles',\n",
              " 16: 'Vehicles over 3.5 metric tons prohibited',\n",
              " 17: 'No entry',\n",
              " 18: 'General caution',\n",
              " 19: 'Dangerous curve to the left',\n",
              " 20: 'Dangerous curve to the right',\n",
              " 21: 'Double curve',\n",
              " 22: 'Bumpy road',\n",
              " 23: 'Slippery road',\n",
              " 24: 'Road narrows on the right',\n",
              " 25: 'Road work',\n",
              " 26: 'Traffic signals',\n",
              " 27: 'Pedestrians',\n",
              " 28: 'Children crossing',\n",
              " 29: 'Bicycles crossing',\n",
              " 30: 'Beware of ice/snow',\n",
              " 31: 'Wild animals crossing',\n",
              " 32: 'End of all speed and passing limits',\n",
              " 33: 'Turn right ahead',\n",
              " 34: 'Turn left ahead',\n",
              " 35: 'Ahead only',\n",
              " 36: 'Go straight or right',\n",
              " 37: 'Go straight or left',\n",
              " 38: 'Keep right',\n",
              " 39: 'Keep left',\n",
              " 40: 'Roundabout mandatory',\n",
              " 41: 'End of no passing',\n",
              " 42: 'End of no passing by vehicles over 3.5 metric tons'}"
            ]
          },
          "metadata": {
            "tags": []
          },
          "execution_count": 26
        }
      ]
    },
    {
      "cell_type": "code",
      "metadata": {
        "id": "A4Yg-kbWukFa",
        "colab_type": "code",
        "outputId": "6f15382d-f0bb-46ba-84a2-450c6defca18",
        "colab": {
          "base_uri": "https://localhost:8080/",
          "height": 34
        }
      },
      "source": [
        "np.argmax( y_pred_prob[400] )"
      ],
      "execution_count": 0,
      "outputs": [
        {
          "output_type": "execute_result",
          "data": {
            "text/plain": [
              "1"
            ]
          },
          "metadata": {
            "tags": []
          },
          "execution_count": 27
        }
      ]
    },
    {
      "cell_type": "code",
      "metadata": {
        "id": "wZj9L-KEuols",
        "colab_type": "code",
        "outputId": "2473af3d-3403-4daf-f6a9-bc1944f60cdf",
        "colab": {
          "base_uri": "https://localhost:8080/",
          "height": 34
        }
      },
      "source": [
        "labels_dict[ np.argmax( y_pred_prob[400] ) ]"
      ],
      "execution_count": 0,
      "outputs": [
        {
          "output_type": "execute_result",
          "data": {
            "text/plain": [
              "'Speed limit (30km/h)'"
            ]
          },
          "metadata": {
            "tags": []
          },
          "execution_count": 28
        }
      ]
    },
    {
      "cell_type": "code",
      "metadata": {
        "id": "1Y4vsVcmusdY",
        "colab_type": "code",
        "colab": {}
      },
      "source": [
        "def predict(model_trained, X_test, y_test, scoring=accuracy_score):\n",
        "  y_test_norm = np.argmax(y_test, axis=1)\n",
        "\n",
        "  y_pred_prob = model_trained.predict(X_test)\n",
        "  y_pred = np.argmax(y_pred_prob, axis=1)\n",
        "\n",
        "  return scoring(y_test_norm, y_pred)"
      ],
      "execution_count": 0,
      "outputs": []
    },
    {
      "cell_type": "code",
      "metadata": {
        "id": "pHCLFE4Kuv8h",
        "colab_type": "code",
        "outputId": "c8d063f1-4da3-4c3f-a891-bd4ae2f6812c",
        "colab": {
          "base_uri": "https://localhost:8080/",
          "height": 34
        }
      },
      "source": [
        "predict(model_trained, X_test, y_test)"
      ],
      "execution_count": 0,
      "outputs": [
        {
          "output_type": "execute_result",
          "data": {
            "text/plain": [
              "0.7984126984126985"
            ]
          },
          "metadata": {
            "tags": []
          },
          "execution_count": 30
        }
      ]
    },
    {
      "cell_type": "code",
      "metadata": {
        "id": "tr-yzQFiuy6J",
        "colab_type": "code",
        "colab": {}
      },
      "source": [
        "def train_and_predict(model):\n",
        "  model_trained = train_model(model, X_train, y_train)\n",
        "  return predict(model_trained, X_test, y_test)"
      ],
      "execution_count": 0,
      "outputs": []
    },
    {
      "cell_type": "code",
      "metadata": {
        "id": "tXpgP3rHu1Y4",
        "colab_type": "code",
        "outputId": "aa414fdb-d52c-4ace-96a1-227f056c9474",
        "colab": {
          "base_uri": "https://localhost:8080/",
          "height": 202
        }
      },
      "source": [
        "def get_cnn_v2(input_shape, num_classes):\n",
        "  return Sequential([\n",
        "  Conv2D(filters=32, kernel_size=(3, 3), activation='relu', input_shape=input_shape),\n",
        "  MaxPool2D(),\n",
        "  Dropout(0.3),\n",
        "\n",
        "  Conv2D(filters=64, kernel_size=(3, 3), activation='relu'),\n",
        "  MaxPool2D(),\n",
        "  Dropout(0.3), \n",
        "  \n",
        "  Flatten(),\n",
        "\n",
        "  Dense(1024, activation='relu'),\n",
        "  Dropout(0.3),\n",
        "\n",
        "  Dense(num_classes, activation='softmax')\n",
        "  ])\n",
        "\n",
        "train_and_predict( get_cnn_v2(input_shape, num_classes) )"
      ],
      "execution_count": 0,
      "outputs": [
        {
          "output_type": "stream",
          "text": [
            "Epoch 1/5\n",
            "272/272 [==============================] - 70s 256ms/step - loss: 6.7951 - accuracy: 0.1814 - val_loss: 2.1554 - val_accuracy: 0.4206\n",
            "Epoch 2/5\n",
            "272/272 [==============================] - 69s 254ms/step - loss: 1.9448 - accuracy: 0.4329 - val_loss: 1.2341 - val_accuracy: 0.6399\n",
            "Epoch 3/5\n",
            "272/272 [==============================] - 69s 252ms/step - loss: 1.3124 - accuracy: 0.5954 - val_loss: 0.6350 - val_accuracy: 0.8297\n",
            "Epoch 4/5\n",
            "272/272 [==============================] - 68s 252ms/step - loss: 0.8127 - accuracy: 0.7502 - val_loss: 0.3174 - val_accuracy: 0.9234\n",
            "Epoch 5/5\n",
            "272/272 [==============================] - 68s 250ms/step - loss: 0.5278 - accuracy: 0.8386 - val_loss: 0.1885 - val_accuracy: 0.9603\n"
          ],
          "name": "stdout"
        },
        {
          "output_type": "execute_result",
          "data": {
            "text/plain": [
              "0.846031746031746"
            ]
          },
          "metadata": {
            "tags": []
          },
          "execution_count": 32
        }
      ]
    },
    {
      "cell_type": "code",
      "metadata": {
        "id": "qziYXSzru4XP",
        "colab_type": "code",
        "outputId": "4217abb3-a697-45db-c11f-d01ec2dfaed0",
        "colab": {
          "base_uri": "https://localhost:8080/",
          "height": 202
        }
      },
      "source": [
        "def get_cnn_v3(input_shape, num_classes):\n",
        "  return Sequential([\n",
        "  Conv2D(filters=32, kernel_size=(3, 3), activation='relu', input_shape=input_shape),\n",
        "  Conv2D(filters=32, kernel_size=(3, 3), activation='relu'),\n",
        "  MaxPool2D(),\n",
        "  Dropout(0.3),\n",
        "\n",
        "  Conv2D(filters=64, kernel_size=(3, 3), activation='relu'),\n",
        "  Conv2D(filters=64, kernel_size=(3, 3), activation='relu'),\n",
        "  MaxPool2D(),\n",
        "  Dropout(0.3), \n",
        "  \n",
        "  Flatten(),\n",
        "\n",
        "  Dense(1024, activation='relu'),\n",
        "  Dropout(0.3),\n",
        "\n",
        "  Dense(num_classes, activation='softmax')\n",
        "  ])\n",
        "\n",
        "train_and_predict( get_cnn_v3(input_shape, num_classes) )"
      ],
      "execution_count": 0,
      "outputs": [
        {
          "output_type": "stream",
          "text": [
            "Epoch 1/5\n",
            "272/272 [==============================] - 140s 516ms/step - loss: 2.0896 - accuracy: 0.5587 - val_loss: 0.3215 - val_accuracy: 0.9339\n",
            "Epoch 2/5\n",
            "272/272 [==============================] - 140s 515ms/step - loss: 0.4553 - accuracy: 0.8686 - val_loss: 0.1047 - val_accuracy: 0.9754\n",
            "Epoch 3/5\n",
            "272/272 [==============================] - 141s 517ms/step - loss: 0.2538 - accuracy: 0.9267 - val_loss: 0.0680 - val_accuracy: 0.9831\n",
            "Epoch 4/5\n",
            "272/272 [==============================] - 140s 516ms/step - loss: 0.1742 - accuracy: 0.9493 - val_loss: 0.0405 - val_accuracy: 0.9920\n",
            "Epoch 5/5\n",
            "272/272 [==============================] - 140s 516ms/step - loss: 0.1355 - accuracy: 0.9599 - val_loss: 0.0201 - val_accuracy: 0.9948\n"
          ],
          "name": "stdout"
        },
        {
          "output_type": "execute_result",
          "data": {
            "text/plain": [
              "0.9693877551020408"
            ]
          },
          "metadata": {
            "tags": []
          },
          "execution_count": 33
        }
      ]
    },
    {
      "cell_type": "code",
      "metadata": {
        "id": "Xz2M-7zM1jr9",
        "colab_type": "code",
        "outputId": "66f0466a-9d71-4da9-c079-41ce6f4b2d7e",
        "colab": {
          "base_uri": "https://localhost:8080/",
          "height": 874
        }
      },
      "source": [
        "def get_cnn_v4(input_shape, num_classes):\n",
        "  return Sequential([\n",
        "  Conv2D(filters=32, kernel_size=(3, 3), activation='relu', input_shape=input_shape, padding='same'),\n",
        "  Conv2D(filters=32, kernel_size=(3, 3), activation='relu', padding='same'),\n",
        "  MaxPool2D(),\n",
        "  Dropout(0.3),\n",
        "\n",
        "  Conv2D(filters=64, kernel_size=(3, 3), activation='relu', padding='same'),\n",
        "  Conv2D(filters=64, kernel_size=(3, 3), activation='relu'),\n",
        "  MaxPool2D(),\n",
        "  Dropout(0.3),\n",
        "\n",
        "  Conv2D(filters=64, kernel_size=(3, 3), activation='relu', padding='same'),\n",
        "  Conv2D(filters=64, kernel_size=(3, 3), activation='relu'),\n",
        "  MaxPool2D(),\n",
        "  Dropout(0.3), \n",
        "  \n",
        "  Flatten(),\n",
        "\n",
        "  Dense(1024, activation='relu'),\n",
        "  Dropout(0.3),\n",
        "\n",
        "  Dense(num_classes, activation='softmax')\n",
        "  ])\n",
        "\n",
        "get_cnn_v4(input_shape, num_classes).summary()\n",
        "train_and_predict( get_cnn_v4(input_shape, num_classes) )"
      ],
      "execution_count": 0,
      "outputs": [
        {
          "output_type": "stream",
          "text": [
            "Model: \"sequential_4\"\n",
            "_________________________________________________________________\n",
            "Layer (type)                 Output Shape              Param #   \n",
            "=================================================================\n",
            "conv2d_8 (Conv2D)            (None, 32, 32, 32)        896       \n",
            "_________________________________________________________________\n",
            "conv2d_9 (Conv2D)            (None, 32, 32, 32)        9248      \n",
            "_________________________________________________________________\n",
            "max_pooling2d_4 (MaxPooling2 (None, 16, 16, 32)        0         \n",
            "_________________________________________________________________\n",
            "dropout_6 (Dropout)          (None, 16, 16, 32)        0         \n",
            "_________________________________________________________________\n",
            "conv2d_10 (Conv2D)           (None, 16, 16, 64)        18496     \n",
            "_________________________________________________________________\n",
            "conv2d_11 (Conv2D)           (None, 14, 14, 64)        36928     \n",
            "_________________________________________________________________\n",
            "max_pooling2d_5 (MaxPooling2 (None, 7, 7, 64)          0         \n",
            "_________________________________________________________________\n",
            "dropout_7 (Dropout)          (None, 7, 7, 64)          0         \n",
            "_________________________________________________________________\n",
            "conv2d_12 (Conv2D)           (None, 7, 7, 64)          36928     \n",
            "_________________________________________________________________\n",
            "conv2d_13 (Conv2D)           (None, 5, 5, 64)          36928     \n",
            "_________________________________________________________________\n",
            "max_pooling2d_6 (MaxPooling2 (None, 2, 2, 64)          0         \n",
            "_________________________________________________________________\n",
            "dropout_8 (Dropout)          (None, 2, 2, 64)          0         \n",
            "_________________________________________________________________\n",
            "flatten_4 (Flatten)          (None, 256)               0         \n",
            "_________________________________________________________________\n",
            "dense_6 (Dense)              (None, 1024)              263168    \n",
            "_________________________________________________________________\n",
            "dropout_9 (Dropout)          (None, 1024)              0         \n",
            "_________________________________________________________________\n",
            "dense_7 (Dense)              (None, 43)                44075     \n",
            "=================================================================\n",
            "Total params: 446,667\n",
            "Trainable params: 446,667\n",
            "Non-trainable params: 0\n",
            "_________________________________________________________________\n",
            "Epoch 1/5\n",
            "272/272 [==============================] - 215s 790ms/step - loss: 3.1593 - accuracy: 0.2097 - val_loss: 1.4734 - val_accuracy: 0.5276\n",
            "Epoch 2/5\n",
            "272/272 [==============================] - 213s 785ms/step - loss: 1.1802 - accuracy: 0.6332 - val_loss: 0.3261 - val_accuracy: 0.9067\n",
            "Epoch 3/5\n",
            "272/272 [==============================] - 214s 789ms/step - loss: 0.4913 - accuracy: 0.8509 - val_loss: 0.1449 - val_accuracy: 0.9586\n",
            "Epoch 4/5\n",
            "272/272 [==============================] - 216s 792ms/step - loss: 0.2961 - accuracy: 0.9111 - val_loss: 0.0799 - val_accuracy: 0.9749\n",
            "Epoch 5/5\n",
            "272/272 [==============================] - 215s 791ms/step - loss: 0.2137 - accuracy: 0.9352 - val_loss: 0.0301 - val_accuracy: 0.9920\n"
          ],
          "name": "stdout"
        },
        {
          "output_type": "execute_result",
          "data": {
            "text/plain": [
              "0.9662131519274376"
            ]
          },
          "metadata": {
            "tags": []
          },
          "execution_count": 34
        }
      ]
    },
    {
      "cell_type": "code",
      "metadata": {
        "id": "V-klgWRr4UHC",
        "colab_type": "code",
        "outputId": "370e1f38-4dee-4a7b-ce96-c13f3b2fa4eb",
        "colab": {
          "base_uri": "https://localhost:8080/",
          "height": 874
        }
      },
      "source": [
        "def get_cnn_v5(input_shape, num_classes):\n",
        "  return Sequential([\n",
        "  Conv2D(filters=32, kernel_size=(3, 3), activation='relu', input_shape=input_shape, padding='same'),\n",
        "  Conv2D(filters=32, kernel_size=(3, 3), activation='relu', padding='same'),\n",
        "  MaxPool2D(),\n",
        "  Dropout(0.3),\n",
        "\n",
        "  Conv2D(filters=64, kernel_size=(3, 3), activation='relu', padding='same'),\n",
        "  Conv2D(filters=64, kernel_size=(3, 3), activation='relu'),\n",
        "  MaxPool2D(),\n",
        "  Dropout(0.3),\n",
        "\n",
        "  Conv2D(filters=64, kernel_size=(3, 3), activation='relu', padding='same'),\n",
        "  Conv2D(filters=64, kernel_size=(3, 3), activation='relu'),\n",
        "  MaxPool2D(),\n",
        "  Dropout(0.3), \n",
        "  \n",
        "  Flatten(),\n",
        "\n",
        "  Dense(1024, activation='relu'),\n",
        "  Dropout(0.3),\n",
        "\n",
        "  Dense(1024, activation='relu'),\n",
        "  Dropout(0.3),\n",
        "\n",
        "  Dense(num_classes, activation='softmax')\n",
        "  ])\n",
        "\n",
        "get_cnn_v4(input_shape, num_classes).summary()\n",
        "train_and_predict( get_cnn_v5(input_shape, num_classes) )"
      ],
      "execution_count": 0,
      "outputs": [
        {
          "output_type": "stream",
          "text": [
            "Model: \"sequential_6\"\n",
            "_________________________________________________________________\n",
            "Layer (type)                 Output Shape              Param #   \n",
            "=================================================================\n",
            "conv2d_20 (Conv2D)           (None, 32, 32, 32)        896       \n",
            "_________________________________________________________________\n",
            "conv2d_21 (Conv2D)           (None, 32, 32, 32)        9248      \n",
            "_________________________________________________________________\n",
            "max_pooling2d_10 (MaxPooling (None, 16, 16, 32)        0         \n",
            "_________________________________________________________________\n",
            "dropout_14 (Dropout)         (None, 16, 16, 32)        0         \n",
            "_________________________________________________________________\n",
            "conv2d_22 (Conv2D)           (None, 16, 16, 64)        18496     \n",
            "_________________________________________________________________\n",
            "conv2d_23 (Conv2D)           (None, 14, 14, 64)        36928     \n",
            "_________________________________________________________________\n",
            "max_pooling2d_11 (MaxPooling (None, 7, 7, 64)          0         \n",
            "_________________________________________________________________\n",
            "dropout_15 (Dropout)         (None, 7, 7, 64)          0         \n",
            "_________________________________________________________________\n",
            "conv2d_24 (Conv2D)           (None, 7, 7, 64)          36928     \n",
            "_________________________________________________________________\n",
            "conv2d_25 (Conv2D)           (None, 5, 5, 64)          36928     \n",
            "_________________________________________________________________\n",
            "max_pooling2d_12 (MaxPooling (None, 2, 2, 64)          0         \n",
            "_________________________________________________________________\n",
            "dropout_16 (Dropout)         (None, 2, 2, 64)          0         \n",
            "_________________________________________________________________\n",
            "flatten_6 (Flatten)          (None, 256)               0         \n",
            "_________________________________________________________________\n",
            "dense_10 (Dense)             (None, 1024)              263168    \n",
            "_________________________________________________________________\n",
            "dropout_17 (Dropout)         (None, 1024)              0         \n",
            "_________________________________________________________________\n",
            "dense_11 (Dense)             (None, 43)                44075     \n",
            "=================================================================\n",
            "Total params: 446,667\n",
            "Trainable params: 446,667\n",
            "Non-trainable params: 0\n",
            "_________________________________________________________________\n",
            "Epoch 1/5\n",
            "272/272 [==============================] - 224s 822ms/step - loss: 2.7613 - accuracy: 0.2479 - val_loss: 1.1683 - val_accuracy: 0.6155\n",
            "Epoch 2/5\n",
            "272/272 [==============================] - 223s 819ms/step - loss: 1.0063 - accuracy: 0.6766 - val_loss: 0.3184 - val_accuracy: 0.9046\n",
            "Epoch 3/5\n",
            "272/272 [==============================] - 221s 813ms/step - loss: 0.4460 - accuracy: 0.8620 - val_loss: 0.0926 - val_accuracy: 0.9719\n",
            "Epoch 4/5\n",
            "272/272 [==============================] - 220s 809ms/step - loss: 0.2852 - accuracy: 0.9132 - val_loss: 0.0545 - val_accuracy: 0.9831\n",
            "Epoch 5/5\n",
            "272/272 [==============================] - 221s 812ms/step - loss: 0.2069 - accuracy: 0.9386 - val_loss: 0.0565 - val_accuracy: 0.9843\n"
          ],
          "name": "stdout"
        },
        {
          "output_type": "execute_result",
          "data": {
            "text/plain": [
              "0.9537414965986395"
            ]
          },
          "metadata": {
            "tags": []
          },
          "execution_count": 35
        }
      ]
    },
    {
      "cell_type": "code",
      "metadata": {
        "id": "WLK-JAMt_IQY",
        "colab_type": "code",
        "outputId": "a648c3ce-6a41-46e1-8481-521bdad47474",
        "colab": {
          "base_uri": "https://localhost:8080/",
          "height": 34
        }
      },
      "source": [
        "X_train[0].shape"
      ],
      "execution_count": 0,
      "outputs": [
        {
          "output_type": "execute_result",
          "data": {
            "text/plain": [
              "(32, 32, 3)"
            ]
          },
          "metadata": {
            "tags": []
          },
          "execution_count": 36
        }
      ]
    },
    {
      "cell_type": "code",
      "metadata": {
        "id": "lVD74aMPDaPx",
        "colab_type": "code",
        "outputId": "8abf3b50-0742-4079-c558-f937af31044b",
        "colab": {
          "base_uri": "https://localhost:8080/",
          "height": 34
        }
      },
      "source": [
        "color.rgb2gray(X_train[0]).shape"
      ],
      "execution_count": 0,
      "outputs": [
        {
          "output_type": "execute_result",
          "data": {
            "text/plain": [
              "(32, 32)"
            ]
          },
          "metadata": {
            "tags": []
          },
          "execution_count": 37
        }
      ]
    },
    {
      "cell_type": "code",
      "metadata": {
        "id": "aKObK_jfDbKe",
        "colab_type": "code",
        "outputId": "4f8c877c-bd4e-4503-a8fb-e9d70ba70e29",
        "colab": {
          "base_uri": "https://localhost:8080/",
          "height": 283
        }
      },
      "source": [
        "plt.imshow ( color.rgb2gray(X_train[0]), cmap = plt.get_cmap('gray') )"
      ],
      "execution_count": 0,
      "outputs": [
        {
          "output_type": "execute_result",
          "data": {
            "text/plain": [
              "<matplotlib.image.AxesImage at 0x7f32ea6b0f98>"
            ]
          },
          "metadata": {
            "tags": []
          },
          "execution_count": 38
        },
        {
          "output_type": "display_data",
          "data": {
            "image/png": "[encoded data removed]",
            "text/plain": [
              "<Figure size 432x288 with 1 Axes>"
            ]
          },
          "metadata": {
            "tags": []
          }
        }
      ]
    },
    {
      "cell_type": "code",
      "metadata": {
        "id": "XYgYTWuIDfta",
        "colab_type": "code",
        "colab": {}
      },
      "source": [
        "X_train_gray = color.rgb2gray( X_train )\n",
        "X_test_gray = color.rgb2gray( X_test )"
      ],
      "execution_count": 0,
      "outputs": []
    },
    {
      "cell_type": "code",
      "metadata": {
        "id": "9cQGbol3DiY2",
        "colab_type": "code",
        "outputId": "741f5441-1cc5-4bb8-98ce-0e3222baae22",
        "colab": {
          "base_uri": "https://localhost:8080/",
          "height": 34
        }
      },
      "source": [
        "input_shape"
      ],
      "execution_count": 0,
      "outputs": [
        {
          "output_type": "execute_result",
          "data": {
            "text/plain": [
              "(32, 32, 3)"
            ]
          },
          "metadata": {
            "tags": []
          },
          "execution_count": 40
        }
      ]
    },
    {
      "cell_type": "code",
      "metadata": {
        "id": "62aCk61rDkqI",
        "colab_type": "code",
        "outputId": "a0a5f62c-2f8f-4b86-e113-0fbde812c166",
        "colab": {
          "base_uri": "https://localhost:8080/",
          "height": 34
        }
      },
      "source": [
        "X_train_gray.shape"
      ],
      "execution_count": 0,
      "outputs": [
        {
          "output_type": "execute_result",
          "data": {
            "text/plain": [
              "(34799, 32, 32)"
            ]
          },
          "metadata": {
            "tags": []
          },
          "execution_count": 41
        }
      ]
    },
    {
      "cell_type": "code",
      "metadata": {
        "id": "SQcFx06EDmen",
        "colab_type": "code",
        "outputId": "c64d8182-bbdf-4a16-a5f9-63c46873eaed",
        "colab": {
          "base_uri": "https://localhost:8080/",
          "height": 34
        }
      },
      "source": [
        "X_train_gray.reshape(-1, 32, 32, 1).shape"
      ],
      "execution_count": 0,
      "outputs": [
        {
          "output_type": "execute_result",
          "data": {
            "text/plain": [
              "(34799, 32, 32, 1)"
            ]
          },
          "metadata": {
            "tags": []
          },
          "execution_count": 42
        }
      ]
    },
    {
      "cell_type": "code",
      "metadata": {
        "id": "GzPNi6eeDoom",
        "colab_type": "code",
        "colab": {}
      },
      "source": [
        "X_train_gray = color.rgb2gray( X_train ).reshape(-1, 32, 32, 1)\n",
        "X_test_gray = color.rgb2gray( X_test ).reshape(-1, 32, 32, 1)"
      ],
      "execution_count": 0,
      "outputs": []
    },
    {
      "cell_type": "code",
      "metadata": {
        "id": "Cx4XJVFUDq9C",
        "colab_type": "code",
        "outputId": "28d37529-f754-4665-a276-e8dc5e6e6801",
        "colab": {
          "base_uri": "https://localhost:8080/",
          "height": 202
        }
      },
      "source": [
        "model = get_cnn_v5( (32, 32, 1), num_classes)\n",
        "model_trained = train_model(model, X_train_gray, y_train, params_fit={})\n",
        "predict(model_trained, X_test_gray, y_test)"
      ],
      "execution_count": 0,
      "outputs": [
        {
          "output_type": "stream",
          "text": [
            "Epoch 1/5\n",
            "272/272 [==============================] - 218s 800ms/step - loss: 2.5008 - accuracy: 0.2964 - val_loss: 0.5870 - val_accuracy: 0.8196\n",
            "Epoch 2/5\n",
            "272/272 [==============================] - 218s 800ms/step - loss: 0.5454 - accuracy: 0.8239 - val_loss: 0.1217 - val_accuracy: 0.9644\n",
            "Epoch 3/5\n",
            "272/272 [==============================] - 217s 797ms/step - loss: 0.2469 - accuracy: 0.9205 - val_loss: 0.0585 - val_accuracy: 0.9831\n",
            "Epoch 4/5\n",
            "272/272 [==============================] - 216s 795ms/step - loss: 0.1692 - accuracy: 0.9467 - val_loss: 0.0373 - val_accuracy: 0.9894\n",
            "Epoch 5/5\n",
            "272/272 [==============================] - 215s 789ms/step - loss: 0.1393 - accuracy: 0.9544 - val_loss: 0.0272 - val_accuracy: 0.9926\n"
          ],
          "name": "stdout"
        },
        {
          "output_type": "execute_result",
          "data": {
            "text/plain": [
              "0.9614512471655329"
            ]
          },
          "metadata": {
            "tags": []
          },
          "execution_count": 44
        }
      ]
    },
    {
      "cell_type": "code",
      "metadata": {
        "id": "O1xEYfT4DuLD",
        "colab_type": "code",
        "outputId": "4b4e60f1-1c7f-48e3-eb98-044ca6f44fbf",
        "colab": {
          "base_uri": "https://localhost:8080/",
          "height": 283
        }
      },
      "source": [
        "plt.imshow ( color.rgb2gray(X_train[0]), cmap = plt.get_cmap('gray') )"
      ],
      "execution_count": 0,
      "outputs": [
        {
          "output_type": "execute_result",
          "data": {
            "text/plain": [
              "<matplotlib.image.AxesImage at 0x7f32e9159ba8>"
            ]
          },
          "metadata": {
            "tags": []
          },
          "execution_count": 45
        },
        {
          "output_type": "display_data",
          "data": {
            "image/png": "[encoded data removed]",
            "text/plain": [
              "<Figure size 432x288 with 1 Axes>"
            ]
          },
          "metadata": {
            "tags": []
          }
        }
      ]
    },
    {
      "cell_type": "code",
      "metadata": {
        "id": "Gp_xD52lJfzt",
        "colab_type": "code",
        "colab": {}
      },
      "source": [
        "def preproc_img(img):\n",
        "  hsv = color.rgb2hsv(img)\n",
        "  hsv[:, :, 2] = exposure.equalize_adapthist(hsv[:, :, 2])\n",
        "  img = color.hsv2rgb(hsv)\n",
        "\n",
        "  return img"
      ],
      "execution_count": 0,
      "outputs": []
    },
    {
      "cell_type": "code",
      "metadata": {
        "id": "ed7n3NQ6K4zO",
        "colab_type": "code",
        "outputId": "9a433acd-f769-4601-e4ef-e7f5d3f81d5f",
        "colab": {
          "base_uri": "https://localhost:8080/",
          "height": 283
        }
      },
      "source": [
        "plt.imshow( X_train[400] )"
      ],
      "execution_count": 0,
      "outputs": [
        {
          "output_type": "execute_result",
          "data": {
            "text/plain": [
              "<matplotlib.image.AxesImage at 0x7f32e91e3748>"
            ]
          },
          "metadata": {
            "tags": []
          },
          "execution_count": 47
        },
        {
          "output_type": "display_data",
          "data": {
            "image/png": "[encoded data removed]",
            "text/plain": [
              "<Figure size 432x288 with 1 Axes>"
            ]
          },
          "metadata": {
            "tags": []
          }
        }
      ]
    },
    {
      "cell_type": "code",
      "metadata": {
        "id": "CqNP4WiPLQGT",
        "colab_type": "code",
        "outputId": "b0b73954-c1ea-44f4-e2e2-0169e11b88ce",
        "colab": {
          "base_uri": "https://localhost:8080/",
          "height": 283
        }
      },
      "source": [
        "plt.imshow( preproc_img(X_train[400]) )"
      ],
      "execution_count": 0,
      "outputs": [
        {
          "output_type": "execute_result",
          "data": {
            "text/plain": [
              "<matplotlib.image.AxesImage at 0x7f32ea72bac8>"
            ]
          },
          "metadata": {
            "tags": []
          },
          "execution_count": 48
        },
        {
          "output_type": "display_data",
          "data": {
            "image/png": "[encoded data removed]",
            "text/plain": [
              "<Figure size 432x288 with 1 Axes>"
            ]
          },
          "metadata": {
            "tags": []
          }
        }
      ]
    },
    {
      "cell_type": "code",
      "metadata": {
        "id": "1dVIRkzcLSS2",
        "colab_type": "code",
        "outputId": "8c492209-ab94-4104-8ebc-9200cd58d6fa",
        "colab": {
          "base_uri": "https://localhost:8080/",
          "height": 50
        }
      },
      "source": [
        "X_train_prp = X_train.copy().astype(np.float32)\n",
        "X_test_prp = X_test.copy().astype(np.float32)\n",
        "\n",
        "for i in tqdm(range(X_train.shape[0])):\n",
        "  X_train_prp[i] = preproc_img(X_train[i])\n",
        "for i in tqdm(range(X_test.shape[0])):\n",
        "  X_test_prp[i] = preproc_img(X_test[i])"
      ],
      "execution_count": 0,
      "outputs": [
        {
          "output_type": "stream",
          "text": [
            "100%|██████████| 34799/34799 [07:11<00:00, 80.63it/s]\n",
            "100%|██████████| 4410/4410 [00:54<00:00, 80.32it/s]\n"
          ],
          "name": "stderr"
        }
      ]
    },
    {
      "cell_type": "code",
      "metadata": {
        "id": "hhbfyV9YLV5o",
        "colab_type": "code",
        "colab": {}
      },
      "source": [
        ""
      ],
      "execution_count": 0,
      "outputs": []
    }
  ]
}