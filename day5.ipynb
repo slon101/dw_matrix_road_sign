{
  "nbformat": 4,
  "nbformat_minor": 0,
  "metadata": {
    "colab": {
      "name": "day5.ipynb",
      "provenance": [],
      "mount_file_id": "1df5Ws_ZgTzt2jC0_LqzVLEvGtWEev3Ok",
      "authorship_tag": "ABX9TyMffbpdDWS45SF2Kp+0PY7S",
      "include_colab_link": true
    },
    "kernelspec": {
      "name": "python3",
      "display_name": "Python 3"
    },
    "accelerator": "GPU"
  },
  "cells": [
    {
      "cell_type": "markdown",
      "metadata": {
        "id": "view-in-github",
        "colab_type": "text"
      },
      "source": [
        "<a href=\"https://colab.research.google.com/github/slon101/dw_matrix_road_sign/blob/master/day5.ipynb\" target=\"_parent\"><img src=\"https://colab.research.google.com/assets/colab-badge.svg\" alt=\"Open In Colab\"/></a>"
      ]
    },
    {
      "cell_type": "code",
      "metadata": {
        "id": "7-tW4iD-ty9I",
        "colab_type": "code",
        "colab": {
          "base_uri": "https://localhost:8080/",
          "height": 168
        },
        "outputId": "098e4edf-b33f-4301-9ce9-1ba878436523"
      },
      "source": [
        "!pip install hyperopt"
      ],
      "execution_count": 3,
      "outputs": [
        {
          "output_type": "stream",
          "text": [
            "Requirement already satisfied: hyperopt in /usr/local/lib/python3.6/dist-packages (0.1.2)\n",
            "Requirement already satisfied: pymongo in /usr/local/lib/python3.6/dist-packages (from hyperopt) (3.10.1)\n",
            "Requirement already satisfied: tqdm in /usr/local/lib/python3.6/dist-packages (from hyperopt) (4.38.0)\n",
            "Requirement already satisfied: networkx in /usr/local/lib/python3.6/dist-packages (from hyperopt) (2.4)\n",
            "Requirement already satisfied: future in /usr/local/lib/python3.6/dist-packages (from hyperopt) (0.16.0)\n",
            "Requirement already satisfied: six in /usr/local/lib/python3.6/dist-packages (from hyperopt) (1.12.0)\n",
            "Requirement already satisfied: numpy in /usr/local/lib/python3.6/dist-packages (from hyperopt) (1.18.2)\n",
            "Requirement already satisfied: scipy in /usr/local/lib/python3.6/dist-packages (from hyperopt) (1.4.1)\n",
            "Requirement already satisfied: decorator>=4.3.0 in /usr/local/lib/python3.6/dist-packages (from networkx->hyperopt) (4.4.2)\n"
          ],
          "name": "stdout"
        }
      ]
    },
    {
      "cell_type": "code",
      "metadata": {
        "id": "-5mtxxFet3aR",
        "colab_type": "code",
        "colab": {}
      },
      "source": [
        "import pandas as pd\n",
        "import numpy as np\n",
        "import os\n",
        "import datetime\n",
        "\n",
        "import tensorflow as tf\n",
        "from tensorflow.keras.models import Sequential\n",
        "from tensorflow.keras.layers import Conv2D, MaxPool2D, Dense, Flatten, Dropout\n",
        "from tensorflow.keras.utils import to_categorical\n",
        "\n",
        "%load_ext tensorboard\n",
        "\n",
        "import matplotlib.pyplot as plt\n",
        "from skimage import color, exposure\n",
        "\n",
        "from sklearn.metrics import accuracy_score\n",
        "\n",
        "from hyperopt import hp, STATUS_OK, tpe, Trials, fmin"
      ],
      "execution_count": 0,
      "outputs": []
    },
    {
      "cell_type": "code",
      "metadata": {
        "id": "4Kc0pHN9t-cK",
        "colab_type": "code",
        "colab": {
          "base_uri": "https://localhost:8080/",
          "height": 34
        },
        "outputId": "96bd34de-3541-4771-9af4-cb1be5bacbbb"
      },
      "source": [
        "cd '/content/drive/My Drive/Colab Notebooks/matrix/matrix_three/dw_matrix_road_sign'"
      ],
      "execution_count": 5,
      "outputs": [
        {
          "output_type": "stream",
          "text": [
            "/content/drive/My Drive/Colab Notebooks/matrix/matrix_three/dw_matrix_road_sign\n"
          ],
          "name": "stdout"
        }
      ]
    },
    {
      "cell_type": "code",
      "metadata": {
        "id": "Z7L1ZXHhuni6",
        "colab_type": "code",
        "colab": {}
      },
      "source": [
        "train = pd.read_pickle('data/train.p')\n",
        "test = pd.read_pickle('data/test.p')\n",
        "\n",
        "X_train, y_train = train['features'], train['labels']\n",
        "X_test, y_test = test['features'], test['labels']"
      ],
      "execution_count": 0,
      "outputs": []
    },
    {
      "cell_type": "code",
      "metadata": {
        "id": "jenfHIb-uqt-",
        "colab_type": "code",
        "colab": {}
      },
      "source": [
        "if y_train.ndim == 1: y_train = to_categorical(y_train)\n",
        "if y_test.ndim == 1: y_test = to_categorical(y_test)\n",
        "\n",
        "input_shape = X_train.shape[1:]\n",
        "num_classes = y_train.shape[1]"
      ],
      "execution_count": 0,
      "outputs": []
    },
    {
      "cell_type": "code",
      "metadata": {
        "id": "sK98fAeAuuU4",
        "colab_type": "code",
        "colab": {}
      },
      "source": [
        "def train_model(model, X_train, y_train, params_fit={}):\n",
        "  model.compile(loss='categorical_crossentropy', optimizer='Adam', metrics=['accuracy'])\n",
        "  \n",
        "  logdir = os.path.join(\"logs\", datetime.datetime.now().strftime(\"%Y%m%d-%H%M%S\"))\n",
        "  tensorboard_callback = tf.keras.callbacks.TensorBoard(logdir, histogram_freq=1)\n",
        "  \n",
        "  model.fit(\n",
        "      X_train, \n",
        "      y_train,\n",
        "      batch_size=params_fit.get('batch_size', 128),\n",
        "      epochs=params_fit.get('epochs', 5),\n",
        "      verbose=params_fit.get('verbose', 1),\n",
        "      validation_data=params_fit.get('validation_data', (X_train, y_train)),\n",
        "      callbacks= [tensorboard_callback]\n",
        "  )\n",
        "  return model \n",
        "\n",
        "def predict(model_trained, X_test, y_test, scoring=accuracy_score):\n",
        "  y_test_norm = np.argmax(y_test, axis=1)\n",
        "\n",
        "  y_pred_prob = model_trained.predict(X_test)\n",
        "  y_pred = np.argmax(y_pred_prob, axis=1)\n",
        "\n",
        "  return scoring(y_test_norm, y_pred)\n",
        "\n",
        "def get_cnn_v5(input_shape, num_classes):\n",
        "  return Sequential([\n",
        "  Conv2D(filters=32, kernel_size=(3, 3), activation='relu', input_shape=input_shape, padding='same'),\n",
        "  Conv2D(filters=32, kernel_size=(3, 3), activation='relu', padding='same'),\n",
        "  Conv2D(filters=32, kernel_size=(3, 3), activation='relu', padding='same'),\n",
        "  MaxPool2D(),\n",
        "  Dropout(0.3),\n",
        "\n",
        "  Conv2D(filters=64, kernel_size=(3, 3), activation='relu', padding='same'),\n",
        "  Conv2D(filters=64, kernel_size=(3, 3), activation='relu', padding='same'),\n",
        "  Conv2D(filters=64, kernel_size=(3, 3), activation='relu'),\n",
        "  MaxPool2D(),\n",
        "  Dropout(0.3),\n",
        "\n",
        "  Conv2D(filters=128, kernel_size=(3, 3), activation='relu', padding='same'),\n",
        "  Conv2D(filters=128, kernel_size=(3, 3), activation='relu', padding='same'),\n",
        "  Conv2D(filters=128, kernel_size=(3, 3), activation='relu'),\n",
        "  MaxPool2D(),\n",
        "  Dropout(0.3), \n",
        "  \n",
        "  Flatten(),\n",
        "\n",
        "  Dense(1024, activation='relu'),\n",
        "  Dropout(0.3),\n",
        "\n",
        "  Dense(1024, activation='relu'),\n",
        "  Dropout(0.3),\n",
        "\n",
        "  Dense(num_classes, activation='softmax')\n",
        "  ])"
      ],
      "execution_count": 0,
      "outputs": []
    },
    {
      "cell_type": "code",
      "metadata": {
        "id": "y7w8VcTCuzxE",
        "colab_type": "code",
        "colab": {
          "base_uri": "https://localhost:8080/",
          "height": 202
        },
        "outputId": "a7b1f18b-2cb9-4115-bd09-75d3ec8e11ba"
      },
      "source": [
        "model = get_cnn_v5(input_shape, num_classes)\n",
        "model_trained = train_model(model, X_train, y_train)\n",
        "\n",
        "predict(model_trained, X_test, y_test)"
      ],
      "execution_count": 10,
      "outputs": [
        {
          "output_type": "stream",
          "text": [
            "Epoch 1/5\n",
            "272/272 [==============================] - 8s 30ms/step - loss: 2.4453 - accuracy: 0.3210 - val_loss: 0.6478 - val_accuracy: 0.8032\n",
            "Epoch 2/5\n",
            "272/272 [==============================] - 7s 27ms/step - loss: 0.5164 - accuracy: 0.8381 - val_loss: 0.1643 - val_accuracy: 0.9502\n",
            "Epoch 3/5\n",
            "272/272 [==============================] - 8s 28ms/step - loss: 0.2320 - accuracy: 0.9298 - val_loss: 0.0677 - val_accuracy: 0.9825\n",
            "Epoch 4/5\n",
            "272/272 [==============================] - 8s 28ms/step - loss: 0.1510 - accuracy: 0.9556 - val_loss: 0.0392 - val_accuracy: 0.9886\n",
            "Epoch 5/5\n",
            "272/272 [==============================] - 8s 28ms/step - loss: 0.1288 - accuracy: 0.9614 - val_loss: 0.0233 - val_accuracy: 0.9931\n"
          ],
          "name": "stdout"
        },
        {
          "output_type": "execute_result",
          "data": {
            "text/plain": [
              "0.9784580498866213"
            ]
          },
          "metadata": {
            "tags": []
          },
          "execution_count": 10
        }
      ]
    },
    {
      "cell_type": "code",
      "metadata": {
        "id": "egj3yhYEu4ih",
        "colab_type": "code",
        "colab": {
          "base_uri": "https://localhost:8080/",
          "height": 50
        },
        "outputId": "aa1036f1-ec96-42c7-ffa8-ce348d2d855b"
      },
      "source": [
        "model_trained.evaluate(X_test, y_test)"
      ],
      "execution_count": 11,
      "outputs": [
        {
          "output_type": "stream",
          "text": [
            "138/138 [==============================] - 1s 4ms/step - loss: 0.0866 - accuracy: 0.9785\n"
          ],
          "name": "stdout"
        },
        {
          "output_type": "execute_result",
          "data": {
            "text/plain": [
              "[0.08664946258068085, 0.978458046913147]"
            ]
          },
          "metadata": {
            "tags": []
          },
          "execution_count": 11
        }
      ]
    },
    {
      "cell_type": "code",
      "metadata": {
        "id": "WI31s2jwzdrs",
        "colab_type": "code",
        "colab": {}
      },
      "source": [
        "def get_model(params):\n",
        "  return Sequential([\n",
        "    Conv2D(filters=32, kernel_size=(3, 3), activation='relu', input_shape=input_shape, padding='same'),\n",
        "    Conv2D(filters=32, kernel_size=(3, 3), activation='relu', padding='same'),\n",
        "    Conv2D(filters=32, kernel_size=(3, 3), activation='relu', padding='same'),\n",
        "    MaxPool2D(),\n",
        "    Dropout(params['dropout_cnn_block_one']),\n",
        "\n",
        "    Conv2D(filters=64, kernel_size=(3, 3), activation='relu', padding='same'),\n",
        "    Conv2D(filters=64, kernel_size=(3, 3), activation='relu', padding='same'),\n",
        "    Conv2D(filters=64, kernel_size=(3, 3), activation='relu'),\n",
        "    MaxPool2D(),\n",
        "    Dropout(params['dropout_cnn_block_two']),\n",
        "\n",
        "    Conv2D(filters=128, kernel_size=(3, 3), activation='relu', padding='same'),\n",
        "    Conv2D(filters=128, kernel_size=(3, 3), activation='relu', padding='same'),\n",
        "    Conv2D(filters=128, kernel_size=(3, 3), activation='relu'),\n",
        "    MaxPool2D(),\n",
        "    Dropout(params['dropout_cnn_block_three']),\n",
        "    \n",
        "    Flatten(),\n",
        "\n",
        "    Dense(1024, activation='relu'),\n",
        "    Dropout(params['dropout_dense_block_one']),\n",
        "\n",
        "    Dense(1024, activation='relu'),\n",
        "    Dropout(params['dropout_dense_block_two']),\n",
        "\n",
        "    Dense(num_classes, activation='softmax')\n",
        "  ])"
      ],
      "execution_count": 0,
      "outputs": []
    },
    {
      "cell_type": "code",
      "metadata": {
        "id": "nrb1KM9Izf4L",
        "colab_type": "code",
        "colab": {}
      },
      "source": [
        "def func_obj(params):\n",
        "  model = get_model(params)\n",
        "  model.compile(loss='categorical_crossentropy', optimizer='Adam', metrics=['accuracy'])\n",
        "  \n",
        "  \n",
        "  model.fit(\n",
        "      X_train, \n",
        "      y_train,\n",
        "      batch_size=int(params.get('batch_size', 128)),\n",
        "      epochs=5,\n",
        "      verbose=0,\n",
        "  )\n",
        "\n",
        "  score = model.evaluate(X_test, y_test, verbose=0)\n",
        "  accuracy = score[1]\n",
        "  print(params, 'accuracy={}'.format(accuracy))\n",
        "\n",
        "  return {'loss': -accuracy, 'status': STATUS_OK, 'model': model}"
      ],
      "execution_count": 0,
      "outputs": []
    },
    {
      "cell_type": "code",
      "metadata": {
        "id": "gQv5gs0Hzj6k",
        "colab_type": "code",
        "colab": {}
      },
      "source": [
        "space = {\n",
        "    'batch_size': hp.quniform('batch_size', 100, 200, 10), \n",
        "    'dropout_cnn_block_one': hp.uniform('dropout_cnn_block_one', 0.3, 0.5),\n",
        "    'dropout_cnn_block_two': hp.uniform('dropout_cnn_block_two', 0.3, 0.5),\n",
        "    'dropout_cnn_block_three': hp.uniform('dropout_cnn_block_three', 0.3, 0.5),\n",
        "\n",
        "    'dropout_dense_block_one': hp.uniform('dropout_dense_block_one', 0.3, 0.7),\n",
        "    'dropout_dense_block_two': hp.uniform('dropout_dense_block_two', 0.3, 0.7)\n",
        "}"
      ],
      "execution_count": 0,
      "outputs": []
    },
    {
      "cell_type": "code",
      "metadata": {
        "id": "X9RGoFjwznO7",
        "colab_type": "code",
        "colab": {
          "base_uri": "https://localhost:8080/",
          "height": 1000
        },
        "outputId": "d3eec4f7-64e1-4524-9b1e-2f2e0bb4315e"
      },
      "source": [
        "best = fmin(\n",
        "    func_obj,\n",
        "    space,\n",
        "    tpe.suggest,\n",
        "    30,\n",
        "    Trials()\n",
        ")"
      ],
      "execution_count": 15,
      "outputs": [
        {
          "output_type": "stream",
          "text": [
            "{'batch_size': 120.0, 'dropout_cnn_block_one': 0.49529607306546164, 'dropout_cnn_block_three': 0.39718112357313873, 'dropout_cnn_block_two': 0.4135102947598675, 'dropout_dense_block_one': 0.5848748575860789, 'dropout_dense_block_two': 0.47170532528181464}\n",
            "accuracy=0.8936507701873779\n",
            "{'batch_size': 140.0, 'dropout_cnn_block_one': 0.3650661315428566, 'dropout_cnn_block_three': 0.4206515712709814, 'dropout_cnn_block_two': 0.4673480942431087, 'dropout_dense_block_one': 0.5870929568992638, 'dropout_dense_block_two': 0.44777655595178545}\n",
            "accuracy=0.9668934345245361\n",
            "{'batch_size': 120.0, 'dropout_cnn_block_one': 0.34643098798122507, 'dropout_cnn_block_three': 0.40953720948268146, 'dropout_cnn_block_two': 0.38328555970342976, 'dropout_dense_block_one': 0.5712837568263254, 'dropout_dense_block_two': 0.469447998105316}\n",
            "accuracy=0.9727891087532043\n",
            "{'batch_size': 190.0, 'dropout_cnn_block_one': 0.38065106320544484, 'dropout_cnn_block_three': 0.48631496485046094, 'dropout_cnn_block_two': 0.3806404230523669, 'dropout_dense_block_one': 0.5222532185677187, 'dropout_dense_block_two': 0.3640194355540181}\n",
            "accuracy=0.9510204195976257\n",
            "{'batch_size': 190.0, 'dropout_cnn_block_one': 0.39444849058308784, 'dropout_cnn_block_three': 0.4059083384199434, 'dropout_cnn_block_two': 0.3012025225216105, 'dropout_dense_block_one': 0.32966341492404017, 'dropout_dense_block_two': 0.45173049966106055}\n",
            "accuracy=0.9653061032295227\n",
            "{'batch_size': 170.0, 'dropout_cnn_block_one': 0.32985802034748823, 'dropout_cnn_block_three': 0.47893900970926584, 'dropout_cnn_block_two': 0.338813078017405, 'dropout_dense_block_one': 0.6244213545620576, 'dropout_dense_block_two': 0.43285233343222906}\n",
            "accuracy=0.9469387531280518\n",
            "{'batch_size': 170.0, 'dropout_cnn_block_one': 0.3423600770969555, 'dropout_cnn_block_three': 0.3232696843425862, 'dropout_cnn_block_two': 0.43008472416000465, 'dropout_dense_block_one': 0.472171975815539, 'dropout_dense_block_two': 0.44325293258967763}\n",
            "accuracy=0.9628117680549622\n",
            "{'batch_size': 140.0, 'dropout_cnn_block_one': 0.31066867116189323, 'dropout_cnn_block_three': 0.47032691042320074, 'dropout_cnn_block_two': 0.4640130518880038, 'dropout_dense_block_one': 0.5192045868808035, 'dropout_dense_block_two': 0.37299647682216674}\n",
            "accuracy=0.9498866200447083\n",
            "{'batch_size': 200.0, 'dropout_cnn_block_one': 0.3221441427475242, 'dropout_cnn_block_three': 0.33291680245819455, 'dropout_cnn_block_two': 0.3464324701793302, 'dropout_dense_block_one': 0.30267522538094155, 'dropout_dense_block_two': 0.3069640989405491}\n",
            "accuracy=0.9530612230300903\n",
            "{'batch_size': 170.0, 'dropout_cnn_block_one': 0.3524973684066816, 'dropout_cnn_block_three': 0.3549359737986746, 'dropout_cnn_block_two': 0.4739101290248894, 'dropout_dense_block_one': 0.4889931892670998, 'dropout_dense_block_two': 0.5668679025491175}\n",
            "accuracy=0.9281179308891296\n",
            "{'batch_size': 110.0, 'dropout_cnn_block_one': 0.42922036297960897, 'dropout_cnn_block_three': 0.44026252214572104, 'dropout_cnn_block_two': 0.32675218042413573, 'dropout_dense_block_one': 0.5746635714110511, 'dropout_dense_block_two': 0.6836455242243968}\n",
            "accuracy=0.9480725526809692\n",
            "{'batch_size': 160.0, 'dropout_cnn_block_one': 0.4257551223367871, 'dropout_cnn_block_three': 0.364369616372821, 'dropout_cnn_block_two': 0.496345999897278, 'dropout_dense_block_one': 0.6212531802476426, 'dropout_dense_block_two': 0.49761294220417046}\n",
            "accuracy=0.9575963616371155\n",
            "{'batch_size': 170.0, 'dropout_cnn_block_one': 0.3063905590728162, 'dropout_cnn_block_three': 0.3627037599371466, 'dropout_cnn_block_two': 0.35921496513566303, 'dropout_dense_block_one': 0.6722804304203434, 'dropout_dense_block_two': 0.6544007253863457}\n",
            "accuracy=0.9498866200447083\n",
            "{'batch_size': 140.0, 'dropout_cnn_block_one': 0.49946979086524257, 'dropout_cnn_block_three': 0.376557342313146, 'dropout_cnn_block_two': 0.46184738760395394, 'dropout_dense_block_one': 0.6711634879701804, 'dropout_dense_block_two': 0.3559421201460223}\n",
            "accuracy=0.8446711897850037\n",
            "{'batch_size': 120.0, 'dropout_cnn_block_one': 0.4906227494806966, 'dropout_cnn_block_three': 0.4789975562207516, 'dropout_cnn_block_two': 0.3850026641932548, 'dropout_dense_block_one': 0.5228831878805048, 'dropout_dense_block_two': 0.6317896062307478}\n",
            "accuracy=0.9117913842201233\n",
            "{'batch_size': 110.0, 'dropout_cnn_block_one': 0.41773646628783295, 'dropout_cnn_block_three': 0.46840598569762837, 'dropout_cnn_block_two': 0.3314232562820218, 'dropout_dense_block_one': 0.5214124353410636, 'dropout_dense_block_two': 0.3033409017463791}\n",
            "accuracy=0.9628117680549622\n",
            "{'batch_size': 140.0, 'dropout_cnn_block_one': 0.3697264004925494, 'dropout_cnn_block_three': 0.4042198055954398, 'dropout_cnn_block_two': 0.4997929400686249, 'dropout_dense_block_one': 0.4362288064151831, 'dropout_dense_block_two': 0.4018765339705934}\n",
            "accuracy=0.9496598839759827\n",
            "{'batch_size': 190.0, 'dropout_cnn_block_one': 0.31982594322748026, 'dropout_cnn_block_three': 0.3873297103721466, 'dropout_cnn_block_two': 0.42213493792334805, 'dropout_dense_block_one': 0.38053092258962323, 'dropout_dense_block_two': 0.450808357418351}\n",
            "accuracy=0.9435374140739441\n",
            "{'batch_size': 200.0, 'dropout_cnn_block_one': 0.33955777277196086, 'dropout_cnn_block_three': 0.4909819659951633, 'dropout_cnn_block_two': 0.4944963000443575, 'dropout_dense_block_one': 0.6936350078427248, 'dropout_dense_block_two': 0.6380367889504591}\n",
            "accuracy=0.8281179070472717\n",
            "{'batch_size': 140.0, 'dropout_cnn_block_one': 0.44092182149574044, 'dropout_cnn_block_three': 0.4434361781050802, 'dropout_cnn_block_two': 0.33887992585654825, 'dropout_dense_block_one': 0.31726294117424014, 'dropout_dense_block_two': 0.49135567476453945}\n",
            "accuracy=0.9523809552192688\n",
            "{'batch_size': 130.0, 'dropout_cnn_block_one': 0.3641634649515572, 'dropout_cnn_block_three': 0.4277301724597054, 'dropout_cnn_block_two': 0.3982404906923565, 'dropout_dense_block_one': 0.572866626456278, 'dropout_dense_block_two': 0.5437339296503394}\n",
            "accuracy=0.962358295917511\n",
            "{'batch_size': 100.0, 'dropout_cnn_block_one': 0.4004701932767793, 'dropout_cnn_block_three': 0.42737335322821457, 'dropout_cnn_block_two': 0.4412293711716193, 'dropout_dense_block_one': 0.6278487248980092, 'dropout_dense_block_two': 0.5464823964939798}\n",
            "accuracy=0.9278911352157593\n",
            "{'batch_size': 150.0, 'dropout_cnn_block_one': 0.4494321463529292, 'dropout_cnn_block_three': 0.45258625411666137, 'dropout_cnn_block_two': 0.3730410940971212, 'dropout_dense_block_one': 0.44655379555370944, 'dropout_dense_block_two': 0.5786836920654245}\n",
            "accuracy=0.9501133561134338\n",
            "{'batch_size': 120.0, 'dropout_cnn_block_one': 0.3878017364983847, 'dropout_cnn_block_three': 0.42153842782625345, 'dropout_cnn_block_two': 0.40113634143436855, 'dropout_dense_block_one': 0.5692252594421644, 'dropout_dense_block_two': 0.4065090059952623}\n",
            "accuracy=0.9578231573104858\n",
            "{'batch_size': 130.0, 'dropout_cnn_block_one': 0.3569568334942299, 'dropout_cnn_block_three': 0.3411710188400229, 'dropout_cnn_block_two': 0.43926682040201137, 'dropout_dense_block_one': 0.6043104283649805, 'dropout_dense_block_two': 0.5199972178346925}\n",
            "accuracy=0.9616780281066895\n",
            "{'batch_size': 100.0, 'dropout_cnn_block_one': 0.37214241776825524, 'dropout_cnn_block_three': 0.41513301585776596, 'dropout_cnn_block_two': 0.3034062431911919, 'dropout_dense_block_one': 0.6636185127327442, 'dropout_dense_block_two': 0.32623137012795644}\n",
            "accuracy=0.9616780281066895\n",
            "{'batch_size': 150.0, 'dropout_cnn_block_one': 0.4643425957049756, 'dropout_cnn_block_three': 0.455319880879399, 'dropout_cnn_block_two': 0.4499110121446753, 'dropout_dense_block_one': 0.5469167173456868, 'dropout_dense_block_two': 0.5971759095129925}\n",
            "accuracy=0.9519274234771729\n",
            "{'batch_size': 130.0, 'dropout_cnn_block_one': 0.40512024045549494, 'dropout_cnn_block_three': 0.3098559429062593, 'dropout_cnn_block_two': 0.47954463580910955, 'dropout_dense_block_one': 0.4168341475297868, 'dropout_dense_block_two': 0.4068592613892455}\n",
            "accuracy=0.958730161190033\n",
            "{'batch_size': 110.0, 'dropout_cnn_block_one': 0.30057781992380234, 'dropout_cnn_block_three': 0.3873537255182551, 'dropout_cnn_block_two': 0.41530314719176453, 'dropout_dense_block_one': 0.6450556452128766, 'dropout_dense_block_two': 0.47234994853358986}\n",
            "accuracy=0.9510204195976257\n",
            "{'batch_size': 160.0, 'dropout_cnn_block_one': 0.3458667608207206, 'dropout_cnn_block_three': 0.38789343550904215, 'dropout_cnn_block_two': 0.40261482858949743, 'dropout_dense_block_one': 0.5989343132231312, 'dropout_dense_block_two': 0.48343958220404987}\n",
            "accuracy=0.9541950225830078\n",
            "100%|██████████| 30/30 [13:00<00:00, 26.02s/it, best loss: -0.9727891087532043]\n"
          ],
          "name": "stdout"
        }
      ]
    },
    {
      "cell_type": "code",
      "metadata": {
        "id": "FfKY0ZfXzqp2",
        "colab_type": "code",
        "colab": {}
      },
      "source": [
        ""
      ],
      "execution_count": 0,
      "outputs": []
    }
  ]
}